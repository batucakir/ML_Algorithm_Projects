{
 "cells": [
  {
   "cell_type": "code",
   "execution_count": 1,
   "id": "43d594ba-930a-48bc-9684-4bdf39ae5152",
   "metadata": {},
   "outputs": [],
   "source": [
    "# Batuhan Cakir\n",
    "\n",
    "# Importing Libraires\n",
    "import numpy as np\n",
    "import matplotlib.pyplot as plt\n",
    "import cv2 \n",
    "import os \n",
    "from tqdm import tqdm \n",
    "from PIL import Image"
   ]
  },
  {
   "cell_type": "code",
   "execution_count": 2,
   "id": "56b5b98b-19dc-4d52-af3d-dfcbfb19b8dc",
   "metadata": {},
   "outputs": [],
   "source": [
    "# Image Data train and test roads\n",
    "train_x = \"/Users/BATUHAN/Desktop/grey-Source/train_set/train_top\"\n",
    "train_y = \"/Users/BATUHAN/Desktop/grey-Source/train_set/train_agac\"\n",
    "\n",
    "test_x  = \"/Users/BATUHAN/Desktop/grey-Source/test_set/test_top\"\n",
    "test_y  = \"/Users/BATUHAN/Desktop/grey-Source/test_set/test_agac\"\n",
    "\n",
    "image_size = (64,64) # Dataset image sizes"
   ]
  },
  {
   "cell_type": "code",
   "execution_count": 3,
   "id": "e939f0ed-b355-400d-ae1c-52f8ee192dd3",
   "metadata": {},
   "outputs": [
    {
     "data": {
      "image/png": "[encoded data removed]",
      "text/plain": [
       "<PIL.JpegImagePlugin.JpegImageFile image mode=L size=100x100 at 0x1C6884877C0>"
      ]
     },
     "execution_count": 3,
     "metadata": {},
     "output_type": "execute_result"
    }
   ],
   "source": [
    "Image.open(\"/Users/BATUHAN/Desktop/grey-Source/train_set/train_top/images66.jpg\")"
   ]
  },
  {
   "cell_type": "code",
   "execution_count": 4,
   "id": "39d89012-ec39-40e2-9c00-e810446cf271",
   "metadata": {},
   "outputs": [
    {
     "data": {
      "image/png": "[encoded data removed]",
      "text/plain": [
       "<PIL.JpegImagePlugin.JpegImageFile image mode=L size=100x100 at 0x1C689A0B040>"
      ]
     },
     "execution_count": 4,
     "metadata": {},
     "output_type": "execute_result"
    }
   ],
   "source": [
    "Image.open(\"/Users/BATUHAN/Desktop/grey-Source/train_set/train_agac/agac.jpg\")"
   ]
  },
  {
   "cell_type": "code",
   "execution_count": 5,
   "id": "6598ba0c-568e-4446-80fd-eb3dc68de29f",
   "metadata": {},
   "outputs": [],
   "source": [
    "# Concatenate function for train and test data \n",
    "def data_split(data1, data2):\n",
    "    data_x = [] \n",
    "    data_y =[]\n",
    "    \n",
    "    for image1 in tqdm(os.listdir(data1)): \n",
    "        path = os.path.join(data1, image1)\n",
    "        img1 = cv2.imread(path, cv2.IMREAD_GRAYSCALE) \n",
    "        img1 = cv2.resize(img1, (image_size[0], image_size[1]))\n",
    "        data_x.append(img1) \n",
    "        \n",
    "    for image2 in tqdm(os.listdir(data2)):\n",
    "        path = os.path.join(data2, image2)\n",
    "        img2 = cv2.imread(path, cv2.IMREAD_GRAYSCALE) \n",
    "        img2 = cv2.resize(img2, (image_size[0], image_size[1]))\n",
    "        data_y.append(img2) \n",
    "    \n",
    "    t_data= np.concatenate((np.asarray(data_x),np.asarray(data_y)),axis=0)\n",
    "    return t_data "
   ]
  },
  {
   "cell_type": "code",
   "execution_count": 6,
   "id": "fc93d60b-b12b-4190-884e-076d394e09b0",
   "metadata": {},
   "outputs": [
    {
     "name": "stderr",
     "output_type": "stream",
     "text": [
      "100%|██████████| 450/450 [00:00<00:00, 4124.45it/s]\n",
      "100%|██████████| 450/450 [00:00<00:00, 4100.79it/s]\n",
      "100%|██████████| 50/50 [00:00<00:00, 3343.19it/s]\n",
      "100%|██████████| 50/50 [00:00<00:00, 3887.57it/s]\n"
     ]
    }
   ],
   "source": [
    "# Calling concatenate function, all data in the numpy matrix\n",
    "train_data = data_split(train_x, train_y) \n",
    "test_data = data_split(test_x, test_y)"
   ]
  },
  {
   "cell_type": "code",
   "execution_count": 7,
   "id": "a9763e27-0a41-47e9-b5df-a9c0da803003",
   "metadata": {},
   "outputs": [],
   "source": [
    "x_data= np.concatenate((train_data, test_data),axis=0)\n",
    "\n",
    "x_data = (x_data-np.min(x_data))/(np.max(x_data)-np.min(x_data))"
   ]
  },
  {
   "cell_type": "code",
   "execution_count": 8,
   "id": "5adca1fb-aecc-4306-92b3-e6b47d64400c",
   "metadata": {},
   "outputs": [],
   "source": [
    "z1 = np.zeros(450)\n",
    "o1 = np.ones(450)\n",
    "Y_train = np.concatenate((o1, z1), axis=0) # Creates (900,1) array for train\n",
    "\n",
    "z = np.zeros(50)\n",
    "o = np.ones(50)\n",
    "Y_test = np.concatenate((o, z), axis=0)    # Creates (100,1) array for test"
   ]
  },
  {
   "cell_type": "code",
   "execution_count": 9,
   "id": "2dddcc57-44b4-457f-bde2-63fc2b044671",
   "metadata": {},
   "outputs": [],
   "source": [
    "y_data = np.concatenate((Y_train, Y_test),axis=0).reshape(x_data.shape[0],1)"
   ]
  },
  {
   "cell_type": "code",
   "execution_count": 10,
   "id": "39f8b70b-bbad-47b0-be47-abcf08c1e78b",
   "metadata": {},
   "outputs": [
    {
     "name": "stdout",
     "output_type": "stream",
     "text": [
      "X shape:  (1000, 64, 64)\n",
      "Y shape:  (1000, 1)\n"
     ]
    }
   ],
   "source": [
    "# Image-Binary Data shapes\n",
    "print(\"X shape: \" , x_data.shape)\n",
    "print(\"Y shape: \" , y_data.shape)"
   ]
  },
  {
   "cell_type": "code",
   "execution_count": 11,
   "id": "968d1c0b-4d91-421f-9781-ac7679be3917",
   "metadata": {},
   "outputs": [],
   "source": [
    "# Splitting the data train and test\n",
    "from sklearn.model_selection import train_test_split\n",
    "x_train, x_test, y_train, y_test = train_test_split(x_data, y_data, test_size=0.10, random_state=42)\n",
    "\n",
    "number_of_train = x_train.shape[0]\n",
    "number_of_test  = x_test.shape[0]"
   ]
  },
  {
   "cell_type": "code",
   "execution_count": 12,
   "id": "37ce6b84-8e10-4c5f-9426-42219e14b0d0",
   "metadata": {},
   "outputs": [
    {
     "name": "stdout",
     "output_type": "stream",
     "text": [
      "X train flatten (900, 4096)\n",
      "X test flatten (100, 4096)\n"
     ]
    }
   ],
   "source": [
    "# Image-Binary Data flatten shapes\n",
    "x_train_flatten = x_train.reshape(number_of_train, x_train.shape[1]*x_train.shape[2])\n",
    "x_test_flatten = x_test .reshape(number_of_test, x_test.shape[1]*x_test.shape[2])\n",
    "\n",
    "print(\"X train flatten\", x_train_flatten.shape)\n",
    "print(\"X test flatten\", x_test_flatten.shape)"
   ]
  },
  {
   "cell_type": "code",
   "execution_count": 13,
   "id": "5c7319a5-f742-42d1-a6bf-35ddb34de855",
   "metadata": {},
   "outputs": [
    {
     "name": "stdout",
     "output_type": "stream",
     "text": [
      "x train:  (4096, 900)\n",
      "x test:  (4096, 100)\n",
      "y train:  (1, 900)\n",
      "y test:  (1, 100)\n"
     ]
    }
   ],
   "source": [
    "x_train = x_train_flatten.T\n",
    "x_test  = x_test_flatten.T\n",
    "y_test  = y_test.T\n",
    "y_train = y_train.T\n",
    "print(\"x train: \", x_train.shape)\n",
    "print(\"x test: \", x_test.shape)\n",
    "print(\"y train: \", y_train.shape)\n",
    "print(\"y test: \", y_test.shape)"
   ]
  },
  {
   "cell_type": "code",
   "execution_count": 14,
   "id": "0749200a-3f40-43fa-921a-e9d7ae176f3a",
   "metadata": {},
   "outputs": [],
   "source": [
    "# Intialize parameters and layer sizes\n",
    "def initialize_parameters_and_layer_sizes_NN(x_train, y_train):\n",
    "    parameters = {\"weight1\": np.random.randn(16,x_train.shape[0]) * 0.1,\n",
    "                  \"bias1\": np.zeros((16,1)),\n",
    "                  \"weight2\": np.random.randn(y_train.shape[0],16) * 0.1,\n",
    "                  \"bias2\": np.zeros((y_train.shape[0],1))}\n",
    "    return parameters\n",
    "\n",
    "# Define sigmoid function\n",
    "def sigmoid(z):\n",
    "    y_head = 1/(1+np.exp(-z))\n",
    "    \n",
    "    return y_head"
   ]
  },
  {
   "cell_type": "code",
   "execution_count": 15,
   "id": "72a57561-33c3-4593-b9c4-63bb477a4211",
   "metadata": {},
   "outputs": [],
   "source": [
    "# Computing cost value with function\n",
    "def compute_cost_NN(A2, Y, parameters):\n",
    "    \n",
    "    logprobs = np.multiply(np.log(A2),Y)\n",
    "    cost = -np.sum(logprobs)/Y.shape[1]\n",
    "    \n",
    "    return cost"
   ]
  },
  {
   "cell_type": "code",
   "execution_count": 16,
   "id": "5af6c19b-ff5d-4d04-b874-fb49dae957d5",
   "metadata": {},
   "outputs": [],
   "source": [
    "# Forward Propagation function NN\n",
    "def forward_propagation_NN(x_train, parameters):\n",
    "\n",
    "    Z1 = np.dot(parameters[\"weight1\"],x_train) +parameters[\"bias1\"]\n",
    "    A1 = np.tanh(Z1)\n",
    "    Z2 = np.dot(parameters[\"weight2\"],A1) + parameters[\"bias2\"]\n",
    "    A2 = sigmoid(Z2)\n",
    "\n",
    "    cache = {\"Z1\": Z1,\n",
    "             \"A1\": A1,\n",
    "             \"Z2\": Z2,\n",
    "             \"A2\": A2}\n",
    "    \n",
    "    return A2, cache"
   ]
  },
  {
   "cell_type": "code",
   "execution_count": 17,
   "id": "a5084759-6190-4f78-997d-afc751304485",
   "metadata": {},
   "outputs": [],
   "source": [
    "# Backward Propagation funciton NN\n",
    "def backward_propagation_NN(parameters, cache, X, Y):\n",
    "\n",
    "    dZ2 = cache[\"A2\"]-Y\n",
    "    dW2 = np.dot(dZ2,cache[\"A1\"].T)/X.shape[1]\n",
    "    db2 = np.sum(dZ2,axis =1,keepdims=True)/X.shape[1]\n",
    "    dZ1 = np.dot(parameters[\"weight2\"].T,dZ2)*(1 - np.power(cache[\"A1\"], 2))\n",
    "    dW1 = np.dot(dZ1,X.T)/X.shape[1]\n",
    "    db1 = np.sum(dZ1,axis =1,keepdims=True)/X.shape[1]\n",
    "    grads = {\"dweight1\": dW1,\n",
    "             \"dbias1\": db1,\n",
    "             \"dweight2\": dW2,\n",
    "             \"dbias2\": db2}\n",
    "    \n",
    "    return grads"
   ]
  },
  {
   "cell_type": "code",
   "execution_count": 18,
   "id": "def2f58e-adc1-46a9-9502-b9e03a8b4f87",
   "metadata": {},
   "outputs": [],
   "source": [
    "# Update parameters with function\n",
    "def update_parameters_NN(parameters, grads, learning_rate = 0.01):\n",
    "    parameters = {\"weight1\": parameters[\"weight1\"]-learning_rate*grads[\"dweight1\"],\n",
    "                  \"bias1\": parameters[\"bias1\"]-learning_rate*grads[\"dbias1\"],\n",
    "                  \"weight2\": parameters[\"weight2\"]-learning_rate*grads[\"dweight2\"],\n",
    "                  \"bias2\": parameters[\"bias2\"]-learning_rate*grads[\"dbias2\"]}\n",
    "    \n",
    "    return parameters"
   ]
  },
  {
   "cell_type": "code",
   "execution_count": 19,
   "id": "5c801fe1-b470-45dd-899e-3a2dc8ad6086",
   "metadata": {},
   "outputs": [],
   "source": [
    "# Prediction\n",
    "def predict_NN(parameters,x_test):\n",
    "    # x_test is a input for forward propagation\n",
    "    A2, cache = forward_propagation_NN(x_test,parameters)\n",
    "    Y_prediction = np.zeros((1,x_test.shape[1]))\n",
    "    # if z is bigger than 0.5, our prediction is sign one (y_head=1),\n",
    "    # if z is smaller than 0.5, our prediction is sign zero (y_head=0),\n",
    "    for i in range(A2.shape[1]):\n",
    "        if A2[0,i]<= 0.5:\n",
    "            Y_prediction[0,i] = 0\n",
    "        else:\n",
    "            Y_prediction[0,i] = 1\n",
    "\n",
    "    return Y_prediction"
   ]
  },
  {
   "cell_type": "code",
   "execution_count": 20,
   "id": "26ab4255-ef07-447b-803a-e066986dcdb7",
   "metadata": {},
   "outputs": [],
   "source": [
    "# 2 Layer neural network\n",
    "# Every function is calling in this part, calculates train and test accuracy, it is plotting costs\n",
    "def two_layer_neural_network(x_train, y_train,x_test,y_test, num_iterations, learning_rate = 0.01):\n",
    "    cost_list = []\n",
    "    index_list = []\n",
    "    #initialize parameters and layer sizes\n",
    "    parameters = initialize_parameters_and_layer_sizes_NN(x_train, y_train)\n",
    "\n",
    "    for i in range(0, num_iterations):\n",
    "         # forward propagation\n",
    "        A2, cache = forward_propagation_NN(x_train,parameters)\n",
    "        # compute cost\n",
    "        cost = compute_cost_NN(A2, y_train, parameters)\n",
    "         # backward propagation\n",
    "        grads = backward_propagation_NN(parameters, cache, x_train, y_train)\n",
    "         # update parameters\n",
    "        parameters = update_parameters_NN(parameters, grads, learning_rate)\n",
    "        \n",
    "        if i % 200 == 0:\n",
    "            cost_list.append(cost)\n",
    "            index_list.append(i)\n",
    "            print (\"Cost after iteration %i: %f\" %(i, cost))\n",
    "    plt.figure(figsize=(10,7))\n",
    "    plt.plot(index_list,cost_list, color='green', linewidth=2)\n",
    "    plt.xticks(index_list,rotation='vertical')\n",
    "    plt.ylabel(\"Cost\", fontsize=12, loc=\"top\")\n",
    "    plt.xlabel(\"Number of Iterarion\", fontsize=12, loc=\"right\")\n",
    "    plt.grid(color='b', linestyle='--', linewidth=0.5)\n",
    "    plt.show()\n",
    "    \n",
    "    # predict\n",
    "    y_prediction_test = predict_NN(parameters,x_test)\n",
    "    y_prediction_train = predict_NN(parameters,x_train)\n",
    "\n",
    "    # Print train/test Errors\n",
    "    print(\"train accuracy: {} %\".format(100 - np.mean(np.abs(y_prediction_train - y_train)) * 100, 3))\n",
    "    print(\"test accuracy: {} %\".format(100 - np.mean(np.abs(y_prediction_test - y_test)) * 100, 3))\n",
    "    \n",
    "    return parameters"
   ]
  },
  {
   "cell_type": "code",
   "execution_count": 23,
   "id": "d10c6edb-924f-40dd-b18d-07ec74924727",
   "metadata": {},
   "outputs": [
    {
     "name": "stdout",
     "output_type": "stream",
     "text": [
      "Cost after iteration 0: 0.295270\n",
      "Cost after iteration 200: 0.305338\n",
      "Cost after iteration 400: 0.273829\n",
      "Cost after iteration 600: 0.237400\n",
      "Cost after iteration 800: 0.208234\n",
      "Cost after iteration 1000: 0.184872\n",
      "Cost after iteration 1200: 0.165281\n",
      "Cost after iteration 1400: 0.149367\n",
      "Cost after iteration 1600: 0.135885\n",
      "Cost after iteration 1800: 0.124282\n",
      "Cost after iteration 2000: 0.114181\n",
      "Cost after iteration 2200: 0.105259\n",
      "Cost after iteration 2400: 0.097397\n",
      "Cost after iteration 2600: 0.090503\n",
      "Cost after iteration 2800: 0.084453\n",
      "Cost after iteration 3000: 0.079076\n",
      "Cost after iteration 3200: 0.074192\n",
      "Cost after iteration 3400: 0.069652\n",
      "Cost after iteration 3600: 0.065393\n",
      "Cost after iteration 3800: 0.061539\n",
      "Cost after iteration 4000: 0.058099\n"
     ]
    },
    {
     "data": {
      "image/png": "[encoded data removed]",
      "text/plain": [
       "<Figure size 720x504 with 1 Axes>"
      ]
     },
     "metadata": {
      "needs_background": "light"
     },
     "output_type": "display_data"
    },
    {
     "name": "stdout",
     "output_type": "stream",
     "text": [
      "train accuracy: 97.11111111111111 %\n",
      "test accuracy: 95.0 %\n"
     ]
    }
   ],
   "source": [
    "nn_values = two_layer_neural_network(x_train, y_train,x_test,y_test, num_iterations=4001, learning_rate=0.01)"
   ]
  },
  {
   "cell_type": "code",
   "execution_count": 24,
   "id": "245cd6b9-300a-43b8-a5fd-1b40182243d6",
   "metadata": {},
   "outputs": [
    {
     "data": {
      "text/plain": [
       "{'weight1': array([[ 0.11645256, -0.15597737,  0.00555095, ..., -0.10790175,\n",
       "          0.01142557,  0.18361113],\n",
       "        [-0.01625098,  0.03275214, -0.09179175, ...,  0.11023398,\n",
       "         -0.09740951, -0.08120633],\n",
       "        [-0.02370852, -0.0483956 ,  0.00671983, ..., -0.05170734,\n",
       "         -0.07047568, -0.13181432],\n",
       "        ...,\n",
       "        [-0.00979765,  0.01929566, -0.03778732, ..., -0.11308347,\n",
       "         -0.02122411,  0.00519218],\n",
       "        [-0.01287857, -0.15000023, -0.12023439, ..., -0.01632282,\n",
       "         -0.05868054,  0.04104751],\n",
       "        [ 0.13273557, -0.03816514, -0.02252794, ..., -0.13515956,\n",
       "          0.04747243,  0.20466864]]),\n",
       " 'bias1': array([[ 0.00078048],\n",
       "        [-0.0800873 ],\n",
       "        [ 0.0265873 ],\n",
       "        [ 0.07238577],\n",
       "        [ 0.00306792],\n",
       "        [-0.00046951],\n",
       "        [ 0.00068101],\n",
       "        [-0.10205447],\n",
       "        [-0.12887708],\n",
       "        [ 0.00448144],\n",
       "        [-0.18677077],\n",
       "        [-0.00401055],\n",
       "        [ 0.00559519],\n",
       "        [ 0.01495637],\n",
       "        [ 0.00294747],\n",
       "        [-0.26044207]]),\n",
       " 'weight2': array([[-0.52324606,  0.98238807, -0.47724889, -0.90760989,  0.23417605,\n",
       "         -0.1997244 , -0.13869506,  1.34446432,  1.01535467, -0.22164784,\n",
       "          1.43071287, -0.49289168,  0.33547107,  0.52439185, -0.16399382,\n",
       "          1.39773351]]),\n",
       " 'bias2': array([[-0.2204359]])}"
      ]
     },
     "execution_count": 24,
     "metadata": {},
     "output_type": "execute_result"
    }
   ],
   "source": [
    "nn_values"
   ]
  }
 ],
 "metadata": {
  "kernelspec": {
   "display_name": "Python 3 (ipykernel)",
   "language": "python",
   "name": "python3"
  },
  "language_info": {
   "codemirror_mode": {
    "name": "ipython",
    "version": 3
   },
   "file_extension": ".py",
   "mimetype": "text/x-python",
   "name": "python",
   "nbconvert_exporter": "python",
   "pygments_lexer": "ipython3",
   "version": "3.9.12"
  }
 },
 "nbformat": 4,
 "nbformat_minor": 5
}
