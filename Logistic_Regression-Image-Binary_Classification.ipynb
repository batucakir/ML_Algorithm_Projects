{
 "cells": [
  {
   "cell_type": "code",
   "execution_count": 1,
   "id": "d662aabe-469d-466f-b9a0-fbfc2f281999",
   "metadata": {},
   "outputs": [],
   "source": [
    "# Batuhan Cakir\n",
    "\n",
    "# Importing Libraires\n",
    "import numpy as np\n",
    "import matplotlib.pyplot as plt\n",
    "import cv2 \n",
    "import os \n",
    "from tqdm import tqdm \n",
    "from PIL import Image"
   ]
  },
  {
   "cell_type": "code",
   "execution_count": 2,
   "id": "cdcbbf8c-f422-4cc9-afcd-7911a580fd1c",
   "metadata": {},
   "outputs": [],
   "source": [
    "# Image Data train and test roads\n",
    "train_x = \"/Users/BATUHAN/Desktop/grey-Source/train_set/train_top\"\n",
    "train_y = \"/Users/BATUHAN/Desktop/grey-Source/train_set/train_agac\"\n",
    "\n",
    "test_x  = \"/Users/BATUHAN/Desktop/grey-Source/test_set/test_top\"\n",
    "test_y  = \"/Users/BATUHAN/Desktop/grey-Source/test_set/test_agac\"\n",
    "\n",
    "image_size = (64,64) # Dataset image sizes"
   ]
  },
  {
   "cell_type": "code",
   "execution_count": 3,
   "id": "6ed85ec2-98b2-445c-b2d2-355d0c9ed010",
   "metadata": {},
   "outputs": [
    {
     "data": {
      "image/png": "[encoded data removed]",
      "text/plain": [
       "<PIL.JpegImagePlugin.JpegImageFile image mode=L size=100x100 at 0x290EFB4DC10>"
      ]
     },
     "execution_count": 3,
     "metadata": {},
     "output_type": "execute_result"
    }
   ],
   "source": [
    "Image.open(\"/Users/BATUHAN/Desktop/grey-Source/train_set/train_top/images66.jpg\")"
   ]
  },
  {
   "cell_type": "code",
   "execution_count": 4,
   "id": "c65ad891-602a-4d50-b0c9-ebd23099517b",
   "metadata": {},
   "outputs": [
    {
     "data": {
      "image/png": "[encoded data removed]",
      "text/plain": [
       "<PIL.JpegImagePlugin.JpegImageFile image mode=L size=100x100 at 0x290EFB25E50>"
      ]
     },
     "execution_count": 4,
     "metadata": {},
     "output_type": "execute_result"
    }
   ],
   "source": [
    "Image.open(\"/Users/BATUHAN/Desktop/grey-Source/train_set/train_agac/agac.jpg\")"
   ]
  },
  {
   "cell_type": "code",
   "execution_count": 5,
   "id": "98d0d25d-eada-4c7f-b602-02d9ea1f913c",
   "metadata": {},
   "outputs": [],
   "source": [
    "# Concatenate function for train and test data \n",
    "def data_split(data1, data2):\n",
    "    data_x = [] \n",
    "    data_y =[]\n",
    "    \n",
    "    for image1 in tqdm(os.listdir(data1)): \n",
    "        path = os.path.join(data1, image1)\n",
    "        img1 = cv2.imread(path, cv2.IMREAD_GRAYSCALE) \n",
    "        img1 = cv2.resize(img1, (image_size[0], image_size[1]))\n",
    "        data_x.append(img1) \n",
    "        \n",
    "    for image2 in tqdm(os.listdir(data2)):\n",
    "        path = os.path.join(data2, image2)\n",
    "        img2 = cv2.imread(path, cv2.IMREAD_GRAYSCALE) \n",
    "        img2 = cv2.resize(img2, (image_size[0], image_size[1]))\n",
    "        data_y.append(img2) \n",
    "    \n",
    "    t_data= np.concatenate((np.asarray(data_x),np.asarray(data_y)),axis=0)\n",
    "    return t_data "
   ]
  },
  {
   "cell_type": "code",
   "execution_count": 6,
   "id": "31b19817-3374-4249-9f75-72d190996bd7",
   "metadata": {},
   "outputs": [
    {
     "name": "stderr",
     "output_type": "stream",
     "text": [
      "100%|██████████| 450/450 [00:00<00:00, 4380.54it/s]\n",
      "100%|██████████| 450/450 [00:00<00:00, 4512.12it/s]\n",
      "100%|██████████| 50/50 [00:00<00:00, 3853.22it/s]\n",
      "100%|██████████| 50/50 [00:00<00:00, 2949.66it/s]\n"
     ]
    }
   ],
   "source": [
    "# Calling concatenate function, all data in the numpy matrix\n",
    "train_data = data_split(train_x, train_y) \n",
    "test_data = data_split(test_x, test_y)"
   ]
  },
  {
   "cell_type": "code",
   "execution_count": 7,
   "id": "e864ce28-c3cb-4935-8464-b24b8151c7ef",
   "metadata": {},
   "outputs": [],
   "source": [
    "x_data= np.concatenate((train_data, test_data),axis=0)\n",
    "\n",
    "x_data = (x_data-np.min(x_data))/(np.max(x_data)-np.min(x_data))"
   ]
  },
  {
   "cell_type": "code",
   "execution_count": 8,
   "id": "4ecbad04-b7a1-4e8d-a1a9-ea239d71966e",
   "metadata": {},
   "outputs": [],
   "source": [
    "z1 = np.zeros(450)\n",
    "o1 = np.ones(450)\n",
    "Y_train = np.concatenate((o1, z1), axis=0) # Creates (900,1) array for train\n",
    "\n",
    "z = np.zeros(50)\n",
    "o = np.ones(50)\n",
    "Y_test = np.concatenate((o, z), axis=0)    # Creates (100,1) array for test"
   ]
  },
  {
   "cell_type": "code",
   "execution_count": 9,
   "id": "48c5040f-6951-49e7-ad35-902d6322741d",
   "metadata": {},
   "outputs": [],
   "source": [
    "y_data = np.concatenate((Y_train, Y_test),axis=0).reshape(x_data.shape[0],1)"
   ]
  },
  {
   "cell_type": "code",
   "execution_count": 10,
   "id": "e52c7160-5c51-40b4-bc77-b94efdb9f9a4",
   "metadata": {},
   "outputs": [
    {
     "name": "stdout",
     "output_type": "stream",
     "text": [
      "X shape:  (1000, 64, 64)\n",
      "Y shape:  (1000, 1)\n"
     ]
    }
   ],
   "source": [
    "# Image-Binary Data shapes\n",
    "print(\"X shape: \" , x_data.shape)\n",
    "print(\"Y shape: \" , y_data.shape)"
   ]
  },
  {
   "cell_type": "code",
   "execution_count": 11,
   "id": "e304e89e-f97c-4d7e-9b3b-92fc6b776084",
   "metadata": {},
   "outputs": [],
   "source": [
    "# Splitting the data train and test\n",
    "from sklearn.model_selection import train_test_split\n",
    "x_train, x_test, y_train, y_test = train_test_split(x_data, y_data, test_size=0.10, random_state=42)\n",
    "\n",
    "number_of_train = x_train.shape[0]\n",
    "number_of_test  = x_test.shape[0]"
   ]
  },
  {
   "cell_type": "code",
   "execution_count": 12,
   "id": "19c9f5c8-ce9d-446f-b8dc-9cbcf136a0e6",
   "metadata": {},
   "outputs": [
    {
     "name": "stdout",
     "output_type": "stream",
     "text": [
      "X train flatten (900, 4096)\n",
      "X test flatten (100, 4096)\n"
     ]
    }
   ],
   "source": [
    "# Image-Binary Data flatten shapes\n",
    "x_train_flatten = x_train.reshape(number_of_train, x_train.shape[1]*x_train.shape[2])\n",
    "x_test_flatten = x_test .reshape(number_of_test, x_test.shape[1]*x_test.shape[2])\n",
    "\n",
    "print(\"X train flatten\", x_train_flatten.shape)\n",
    "print(\"X test flatten\", x_test_flatten.shape)"
   ]
  },
  {
   "cell_type": "code",
   "execution_count": 13,
   "id": "19a3c527-b6a1-4242-87a3-c3f501fb367d",
   "metadata": {},
   "outputs": [
    {
     "name": "stdout",
     "output_type": "stream",
     "text": [
      "x train:  (4096, 900)\n",
      "x test:  (4096, 100)\n",
      "y train:  (1, 900)\n",
      "y test:  (1, 100)\n"
     ]
    }
   ],
   "source": [
    "x_train = x_train_flatten.T\n",
    "x_test  = x_test_flatten.T\n",
    "y_test  = y_test.T\n",
    "y_train = y_train.T\n",
    "print(\"x train: \", x_train.shape)\n",
    "print(\"x test: \", x_test.shape)\n",
    "print(\"y train: \", y_train.shape)\n",
    "print(\"y test: \", y_test.shape)"
   ]
  },
  {
   "cell_type": "code",
   "execution_count": 14,
   "id": "e0383534-4174-448c-9613-446f325c25f1",
   "metadata": {},
   "outputs": [],
   "source": [
    "# Sigmoid function and initialize weights and biases\n",
    "def initialize_weights_and_bias(dimension):\n",
    "    w = np.full((dimension,1),0.01)\n",
    "    b = 0.0\n",
    "    return w, b\n",
    "\n",
    "def sigmoid(x):\n",
    "    y_head = 1/(1+np.exp(-x))\n",
    "    return y_head"
   ]
  },
  {
   "cell_type": "code",
   "execution_count": 15,
   "id": "7c579808-6049-4e83-9ba4-a5858aef0728",
   "metadata": {},
   "outputs": [],
   "source": [
    "# Forward + Backward Propagation function\n",
    "def forward_backward_propagation(w, b, x_train, y_train):\n",
    "    \n",
    "    # forward propagation\n",
    "    z = np.dot(w.T, x_train) + b\n",
    "    y_head = sigmoid(z)\n",
    "    loss = -y_train*np.log(y_head)-(1-y_train)*np.log(1-y_head)\n",
    "    cost = (np.sum(loss))/x_train.shape[1]\n",
    "    \n",
    "    # backward propagation\n",
    "    derivative_weight = (np.dot(x_train, ((y_head-y_train).T)))/x_train.shape[1]\n",
    "    derivative_bias = np.sum(y_head-y_train)/x_train.shape[1]\n",
    "    gradients = {\"derivative_weight\": derivative_weight,\"derivative_bias\": derivative_bias}\n",
    "    \n",
    "    return cost,gradients"
   ]
  },
  {
   "cell_type": "code",
   "execution_count": 16,
   "id": "c2551922-be24-42ec-a667-b3ca9f69897f",
   "metadata": {},
   "outputs": [],
   "source": [
    "# Update function calculates costs every iteration and save them after it is plotting costs, returns weights and biasses\n",
    "def update(w, b, x_train, y_train, learning_rate, number_of_iterarion):\n",
    "    cost_list = []\n",
    "    cost_list2 = []\n",
    "    index = []\n",
    "    \n",
    "    for i in range(number_of_iterarion):\n",
    "        \n",
    "        cost,gradients = forward_backward_propagation(w, b, x_train, y_train)\n",
    "        cost_list.append(cost)\n",
    "        \n",
    "        w = w - learning_rate * gradients[\"derivative_weight\"]\n",
    "        b = b - learning_rate * gradients[\"derivative_bias\"]\n",
    "        if (i % 100 == 0):\n",
    "            cost_list2.append(cost)\n",
    "            index.append(i)\n",
    "            print (\"Cost after iteration %i: %f\" %(i, cost))\n",
    "    \n",
    "    parameters = {\"weight\": w,\"bias\": b}\n",
    "    plt.figure(figsize=(10,5))\n",
    "    plt.plot(index,cost_list2, color = 'green', linewidth=2)\n",
    "    plt.xticks(index, rotation = 'vertical')\n",
    "    plt.ylabel(\"Cost\", fontsize = 14, loc = \"top\")\n",
    "    plt.xlabel(\"Number of Iterarion\", fontsize = 14, loc = \"right\")\n",
    "    plt.grid(color='b', linestyle = '--', linewidth = 0.5)\n",
    "    plt.show()\n",
    "    return parameters, gradients, cost_list"
   ]
  },
  {
   "cell_type": "code",
   "execution_count": 17,
   "id": "906d0a75-a985-430d-93d4-76faf5f579dc",
   "metadata": {},
   "outputs": [],
   "source": [
    "# Prediction function choses the class 0 or 1 \n",
    "def predict(w, b, x_test):\n",
    "    \n",
    "    z = sigmoid(np.dot(w.T, x_test) + b)\n",
    "    Y_prediction = np.zeros((1, x_test.shape[1]))\n",
    "\n",
    "    for i in range(z.shape[1]):\n",
    "        if z[0,i]<= 0.5:\n",
    "            Y_prediction[0,i] = 0\n",
    "        else:\n",
    "            Y_prediction[0,i] = 1\n",
    "\n",
    "    return Y_prediction"
   ]
  },
  {
   "cell_type": "code",
   "execution_count": 18,
   "id": "dd6fe18f-ad4c-4adb-9907-16b6055b9fa1",
   "metadata": {},
   "outputs": [],
   "source": [
    "# Every function is calling in this part, calculates train and test accuracy\n",
    "def logistic_regression(x_train, y_train, x_test, y_test, learning_rate , num_iterations):\n",
    "\n",
    "    dimension =  x_train.shape[0]\n",
    "    w, b = initialize_weights_and_bias(dimension)\n",
    "\n",
    "    parameters, gradients, cost_list = update(w, b, x_train, y_train, learning_rate, num_iterations)\n",
    "    \n",
    "    y_prediction_test = predict(parameters[\"weight\"],parameters[\"bias\"],x_test)\n",
    "    y_prediction_train = predict(parameters[\"weight\"],parameters[\"bias\"],x_train)\n",
    "    \n",
    "    print(\"Train Accuracy: {} %\".format(round(100 - np.mean(np.abs(y_prediction_train - y_train)) * 100, 3)))\n",
    "    print(\"Test Accuracy: {} %\".format(round(100 - np.mean(np.abs(y_prediction_test - y_test)) * 100, 3)))\n",
    "    return parameters"
   ]
  },
  {
   "cell_type": "code",
   "execution_count": 19,
   "id": "f69bdb7d-3479-45fe-8528-938bb850b455",
   "metadata": {},
   "outputs": [
    {
     "name": "stderr",
     "output_type": "stream",
     "text": [
      "C:\\Users\\BATUHAN\\AppData\\Local\\Temp\\ipykernel_8016\\21811470.py:7: RuntimeWarning: divide by zero encountered in log\n",
      "  loss = -y_train*np.log(y_head)-(1-y_train)*np.log(1-y_head)\n",
      "C:\\Users\\BATUHAN\\AppData\\Local\\Temp\\ipykernel_8016\\21811470.py:7: RuntimeWarning: invalid value encountered in multiply\n",
      "  loss = -y_train*np.log(y_head)-(1-y_train)*np.log(1-y_head)\n"
     ]
    },
    {
     "name": "stdout",
     "output_type": "stream",
     "text": [
      "Cost after iteration 0: nan\n",
      "Cost after iteration 100: 0.828744\n",
      "Cost after iteration 200: 0.655921\n",
      "Cost after iteration 300: 0.557842\n",
      "Cost after iteration 400: 0.498769\n",
      "Cost after iteration 500: 0.458030\n",
      "Cost after iteration 600: 0.427469\n",
      "Cost after iteration 700: 0.403270\n",
      "Cost after iteration 800: 0.383350\n",
      "Cost after iteration 900: 0.366471\n",
      "Cost after iteration 1000: 0.351878\n",
      "Cost after iteration 1100: 0.339181\n",
      "Cost after iteration 1200: 0.328474\n",
      "Cost after iteration 1300: 0.320502\n",
      "Cost after iteration 1400: 0.315038\n",
      "Cost after iteration 1500: 0.310343\n",
      "Cost after iteration 1600: 0.305905\n",
      "Cost after iteration 1700: 0.301684\n",
      "Cost after iteration 1800: 0.297659\n",
      "Cost after iteration 1900: 0.293810\n",
      "Cost after iteration 2000: 0.290124\n"
     ]
    },
    {
     "data": {
      "image/png": "[encoded data removed]",
      "text/plain": [
       "<Figure size 720x360 with 1 Axes>"
      ]
     },
     "metadata": {
      "needs_background": "light"
     },
     "output_type": "display_data"
    },
    {
     "name": "stdout",
     "output_type": "stream",
     "text": [
      "Train Accuracy: 90.444 %\n",
      "Test Accuracy: 86.0 %\n"
     ]
    }
   ],
   "source": [
    "lr_values = logistic_regression(x_train, y_train, x_test, y_test,learning_rate = 0.009, num_iterations = 2001)"
   ]
  },
  {
   "cell_type": "code",
   "execution_count": 20,
   "id": "5e127723-2d44-4508-883c-6231d2cc6bbb",
   "metadata": {},
   "outputs": [
    {
     "data": {
      "text/plain": [
       "{'weight': array([[-0.00883481],\n",
       "        [-0.01367103],\n",
       "        [-0.0154455 ],\n",
       "        ...,\n",
       "        [ 0.028875  ],\n",
       "        [ 0.0275829 ],\n",
       "        [ 0.03382235]]),\n",
       " 'bias': -0.6490420805367478}"
      ]
     },
     "execution_count": 20,
     "metadata": {},
     "output_type": "execute_result"
    }
   ],
   "source": [
    "lr_values"
   ]
  }
 ],
 "metadata": {
  "kernelspec": {
   "display_name": "Python 3 (ipykernel)",
   "language": "python",
   "name": "python3"
  },
  "language_info": {
   "codemirror_mode": {
    "name": "ipython",
    "version": 3
   },
   "file_extension": ".py",
   "mimetype": "text/x-python",
   "name": "python",
   "nbconvert_exporter": "python",
   "pygments_lexer": "ipython3",
   "version": "3.9.12"
  }
 },
 "nbformat": 4,
 "nbformat_minor": 5
}
